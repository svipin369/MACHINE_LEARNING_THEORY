{
 "cells": [
  {
   "cell_type": "markdown",
   "metadata": {},
   "source": [
    "# Assignment_22\n",
    "\n",
    "Question1. Is there any way to combine five different models that have all been trained on the same training\n",
    "data and have all achieved 95 percent precision? If so, how can you go about doing it? If not, what is\n",
    "the reason?\n",
    "\n",
    "sol 1.\n",
    "\n",
    "try combining them into a voting ensemble, which will often give you even better results. It works better if the models are very different\n",
    "    \n",
    "Question 2. What's the difference between hard voting classifiers and soft voting classifiers?\n",
    "\n",
    "sol 2.\n",
    "\n",
    "In hard voting (also known as majority voting), every individual classifier votes for a class, and the majority wins. In statistical terms, the predicted target label of the ensemble is the mode of the distribution of individually predicted labels.\n",
    "In soft voting, every individual classifier provides a probability value that a specific data point belongs to a particular target class. The predictions are weighted by the classifier's importance and summed up. Then the target label with the greatest sum of weighted probabilities wins the vote.\n",
    "\n",
    "\n",
    "Question 4. What is the advantage of evaluating out of the bag?\n",
    "\n",
    "sol 4.\n",
    "the advantage of evaluating out of bag are that the model is never trained on the that data so it is used for evaluating the accuracy of the model.\n",
    "so,we do not need of cross validation and can use out of bag instance for that purpose.\n",
    "\n",
    "\n",
    "\n",
    "Question 6. Which hyperparameters and how do you tweak if your AdaBoost ensemble underfits the training\n",
    "data?\n",
    "\n",
    "sol 6.\n",
    "try increasing the number of estimators or reducing the regularization hyperparameters of the base estimator, also try slightly increasing the learning rate.\n",
    "\n",
    "Question 7. Should you raise or decrease the learning rate if your Gradient Boosting ensemble overfits the\n",
    "training set?\n",
    "\n",
    "sol 7.\n",
    "decreasing the learning rate, early stopping to find the right number of predictors\n",
    "\n"
   ]
  }
 ],
 "metadata": {
  "kernelspec": {
   "display_name": "Python 3 (ipykernel)",
   "language": "python",
   "name": "python3"
  },
  "language_info": {
   "codemirror_mode": {
    "name": "ipython",
    "version": 3
   },
   "file_extension": ".py",
   "mimetype": "text/x-python",
   "name": "python",
   "nbconvert_exporter": "python",
   "pygments_lexer": "ipython3",
   "version": "3.9.12"
  }
 },
 "nbformat": 4,
 "nbformat_minor": 2
}
