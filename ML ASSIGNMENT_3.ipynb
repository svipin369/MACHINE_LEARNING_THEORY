{
 "cells": [
  {
   "cell_type": "markdown",
   "id": "e563916f",
   "metadata": {},
   "source": [
    "# Assignment_3"
   ]
  },
  {
   "cell_type": "markdown",
   "id": "0477ad8e",
   "metadata": {},
   "source": [
    "Question 1.Explain the term machine learning, and how does it work? Explain two machine learning\n",
    "applications in the business world. What are some of the ethical concerns that machine learning\n",
    "applications could raise?"
   ]
  },
  {
   "cell_type": "markdown",
   "id": "9b6d68eb",
   "metadata": {},
   "source": [
    "Answer 1)\n",
    "Machine Learning is a subset of Artificial Intelligence which provides mathematical tools to analyze data, do Exploratory Data Analysis, make predictive models and exposed APIs and more. Machine Learning works by providing the computer capability to make predictions or help analysis of data by creating complex algorithmic models that are trained to work within constraints that have to be specified in training data. Ethical concerns that machine learning applications can raise are data related. As more and more data hungry applications are being created, the fine line between ethical handling and collection of data from various sources may blur. For this reason, we need sanity checks in place.*\n",
    "   \n",
    "Applications:\n",
    "\n",
    "a. Learning the overall sentiment of consumers regarding a product launched a while ago using their reviews on an e-commerce website using Natural Language Processing to understand how the product is faring in the market\n",
    "   \n",
    "b. Using machine learning algorithms to cluster similar customers and provide them recommendations based on their history, on a streaming service platform."
   ]
  },
  {
   "cell_type": "markdown",
   "id": "ffb2a3d0",
   "metadata": {},
   "source": [
    "Question 2) Describe the process of human learning"
   ]
  },
  {
   "cell_type": "markdown",
   "id": "3c0cdcbe",
   "metadata": {},
   "source": [
    "i. Under the supervision of experts"
   ]
  },
  {
   "cell_type": "markdown",
   "id": "382c5011",
   "metadata": {},
   "source": [
    "Under supervision, learning is defined by guidance provided to the learner. This guidance or supervision trains the learner to solve certain type of problems. Problems can range from formal communication, to mathematical calculations. Pre-calculated answers provide for rectifications and course correction during learning."
   ]
  },
  {
   "cell_type": "markdown",
   "id": "9c6f2256",
   "metadata": {},
   "source": [
    "ii. With the assistance of experts in an indirect manner"
   ]
  },
  {
   "cell_type": "markdown",
   "id": "fcd364fd",
   "metadata": {},
   "source": [
    "Under indirect assistance, learning is defined by guidance provided to the learner through indirect means. These indirect means can range from books, to periodic advise from experts. This guidance or supervision trains the learner to solve certain type of problems but not as easily as under supervision. Problems can range from formal communication, to mathematical calculations. Expert indirect guidance provide for only limited rectifications and course correction during learning."
   ]
  },
  {
   "cell_type": "markdown",
   "id": "23826e21",
   "metadata": {},
   "source": [
    "iii. Self-education"
   ]
  },
  {
   "cell_type": "markdown",
   "id": "ac49ddf3",
   "metadata": {},
   "source": [
    "Under no supervision, learning is defined by self guidance provided to the learner by himself. The learner has the entire burden of finding ways to solve certain type of problems. Problems can range from formal communication, to mathematical calculations. Only self-calculated answers provide for rectifications and course correction during learning."
   ]
  },
  {
   "cell_type": "markdown",
   "id": "2e4e81bd",
   "metadata": {},
   "source": [
    "Question 3. Provide a few examples of various types of machine learning."
   ]
  },
  {
   "cell_type": "markdown",
   "id": "e3436324",
   "metadata": {},
   "source": [
    "Answer 3)\n",
    "Supervised learning\n",
    "It is the most common type of machine learning. In supervised learning, the algorithm is trained on a set of labeled data, where each data point has a known input and output. The algorithm learns to predict the output for new data points based on the patterns it has learned from the training data.\n",
    "\n",
    "Examples of supervised learning tasks include:\n",
    "\n",
    "Image classification: Predicting the category of an image, such as \"cat\" or \"dog\".\n",
    "Text classification: Predicting the category of a text document, such as \"spam\" or \"not spam\".\n",
    "Regression: Predicting a numerical value, such as the price of a house or the number of customers who will visit a store on a given day.\n",
    "\n",
    "Unsupervised learning \n",
    "It is a type of machine learning where the algorithm is trained on a set of unlabeled data. The algorithm learns to identify patterns in the data without being told what the patterns are.\n",
    "\n",
    "Examples of unsupervised learning tasks include:\n",
    "\n",
    "Clustering: \n",
    "Grouping similar data points together.\n",
    "Anomaly detection: Identifying data points that are different from the rest of the data.\n",
    "Dimensionality reduction: Reducing the number of features in a dataset without losing too much information.\n",
    "\n",
    "Reinforcement learning\n",
    "It is a type of machine learning where the algorithm learns to perform a task by interacting with its environment and receiving rewards for taking actions that lead to desired outcomes.\n",
    "\n",
    "Examples of reinforcement learning tasks include:\n",
    "\n",
    "Training a robot to walk\n",
    "Training a self-driving car to drive safely\n",
    "\n",
    "Deep Learning:\n",
    "\n",
    "Example: Neural Networks for Image Recognition (e.g., Convolutional Neural Networks)\n",
    "Description: Deep learning uses neural networks with multiple layers (deep neural networks) to automatically learn representations of data. It has been highly successful in tasks like image recognition, natural language processing, and speech recognition.\n",
    "\n",
    "Natural Language Processing (NLP):\n",
    "\n",
    "Example: Sentiment Analysis, Machine Translation\n",
    "Description: Natural language processing focuses on enabling machines to understand, interpret, and generate human language. It involves techniques like text classification (sentiment analysis), machine translation (Google Translate), and chatbots"
   ]
  },
  {
   "cell_type": "markdown",
   "id": "15826f5c",
   "metadata": {},
   "source": [
    "Question 4. Examine the various forms of machine learning."
   ]
  },
  {
   "cell_type": "markdown",
   "id": "e5a87864",
   "metadata": {},
   "source": [
    "Answer 4)\n",
    "\n",
    "Various forms of machine learning summarized in one or two lines for each type:\n",
    "\n",
    "Supervised Learning: Learns from labeled data, mapping input features to target labels (e.g., image classification).\n",
    "\n",
    "Unsupervised Learning: Works with unlabeled data to find patterns, structures, or groupings within the data (e.g., clustering customer segmentation).\n",
    "\n",
    "Semi-Supervised Learning: Combines labeled and unlabeled data to make predictions with limited labeled examples (e.g., using a small set of labeled reviews for sentiment analysis).\n",
    "\n",
    "Reinforcement Learning: Trains agents to make sequential decisions in an environment, maximizing cumulative rewards (e.g., game playing like AlphaGo).\n",
    "\n",
    "Deep Learning: Utilizes deep neural networks with multiple layers to automatically learn data representations (e.g., Convolutional Neural Networks for image recognition).\n",
    "\n",
    "Natural Language Processing (NLP): Focuses on understanding, generating, and processing human language (e.g., sentiment analysis, machine translation).\n",
    "\n",
    "Anomaly Detection: Identifies outliers or anomalies in data that deviate from normal behavior (e.g., fraud detection).\n",
    "\n",
    "Transfer Learning: Applies knowledge learned from one task or domain to improve performance in a related task or domain (e.g., using pretrained models for image recognition)."
   ]
  },
  {
   "cell_type": "markdown",
   "id": "b2687c8d",
   "metadata": {},
   "source": [
    "Question 5. Can you explain what a well-posed learning problem is? Explain the main characteristics that must\n",
    "be present to identify a learning problem properly."
   ]
  },
  {
   "cell_type": "markdown",
   "id": "b02b9c1b",
   "metadata": {},
   "source": [
    "Answer 5\n",
    "If a machine learning model learns from certain type of actions that it can record, to do some specific task after evaluating itself using an evaluation metric, then it would be called a well posed learning problem\n",
    "\n",
    "The main characteristics that must be present are:\n",
    "   \n",
    "  a. A task that has to be done by the machine learning model\n",
    "   \n",
    "  b. An action that has to be recorded and learned from by the model\n",
    "   \n",
    "  c. Evaluation metric using which the efficacy of the machine learning model can be measured.\n"
   ]
  },
  {
   "cell_type": "markdown",
   "id": "ec9de6f4",
   "metadata": {},
   "source": [
    "Question 6. Is machine learning capable of solving all problems? Give a detailed explanation of your answer."
   ]
  },
  {
   "cell_type": "markdown",
   "id": "d2c18547",
   "metadata": {},
   "source": [
    "Answer 6) No. Machine learning cannot solve all problems. It can only be used to solve well defined objectives that are not vague. Objective solving capability is also limited by the statistical tools and mathematical algorithms that exist today.\n",
    "  \n",
    "A problem like predicted the chances of terminal cancer in a patient or classifying a spam mail is still in the domain of well defined objectives. Trying to solve objectives like eradicating world wide hunger, creating actual medicine for all kinds of cancers or, reanimating a cryogenically frozen animal through machine learning is not possible. Some portions of the bigger problems however, can fall in the range of machine learning.\n",
    "\n",
    "Predicting the food shortage world might face in the next 5 years can be done using machine learning. Using this prediction, world leaders can formulate a strategy to counter food shortage.\n",
    "\n",
    "Diving down to the cellular level and using computer vision to predict which kind of cell may turn cancerous using a sample of different cells, based on lifestyle, current health and other factors might be possible using machine learning.\n",
    "\n",
    "So, Machine Learning is not the solution to every problem. But it can certainly ease some of the constraints by solving them for us, or at least a portion of the problem."
   ]
  },
  {
   "cell_type": "markdown",
   "id": "74865602",
   "metadata": {},
   "source": [
    "Question 7. What are the various methods and technologies for solving machine learning problems? Any two\n",
    "of them should be defined in detail."
   ]
  },
  {
   "cell_type": "markdown",
   "id": "b012847d",
   "metadata": {},
   "source": [
    "Answer 7)\n",
    "a. Ensemble methods\n",
    "b. Regression\n",
    "c. Classification\n",
    "d. Reinforcement learning\n",
    "e. Dimensionality Reduction are some of the methods.\n",
    "\n",
    "  Models that incorporate the use of multiple base learner models that work simultaneously to produce results are ensemble models. A key aspect of ensemble models is that more different the base learners are, more powerful is the combination and hence more accurate predictions. There are 4 types of ensemble model\n",
    "  \n",
    "  Bagging which is also called Bootstrap aggregation. Multiple base learners learn on subsets of data. A majority vote based on the results of the individual base learners is then used to output the final result.\n",
    "  \n",
    "  Boosting is mainly used to reduce bias in model. Multiple base learners are trained in a sequence in which each learner covers up the weakness of the previous learner to ultimately produce a powerful model.\n",
    "  \n",
    "  Stacking is an ensemble model that combines multiple base learner models constructed parallel to each other and independent. All the models produce predictions that are used creating a meta classifier which is trained on the predictions made by base models. The resultant prediction is then taken as the final prediction. Space and Time complexity issue is huge for stacking models.\n",
    "  \n",
    "  Cascading models are built when the cost of making a mistake in prediction is high. A threshold is chosen for multiple base learners. If one base learner is sure about its prediction(Probability>0.99), then the solution of this learner is taken as the final solution. Else, the problem is sent to a more sophisticated, complex model that does the same as the previous model. The problem either gets solved with probability>0.99 or it keeps getting transfered to a more complicated model that is bound to solve it."
   ]
  },
  {
   "cell_type": "markdown",
   "id": "30630678",
   "metadata": {},
   "source": [
    "Question 8. Can you explain the various forms of supervised learning? Explain each one with an example\n",
    "application."
   ]
  },
  {
   "cell_type": "markdown",
   "id": "a23c08c8",
   "metadata": {},
   "source": [
    "Answer 8) Various forms of supervised learning are as following:\n",
    "\n",
    "Classification:\n",
    "\n",
    "Description: Assigns data points to predefined categories or classes.\n",
    "Example Application: Spam email detection, where emails are classified as \"spam\" or \"not spam.\"\n",
    "Binary Classification:\n",
    "\n",
    "Description: A subtype of classification where data is classified into two distinct classes.\n",
    "Example Application: Medical diagnosis, like identifying whether a patient has a disease or not.\n",
    "Multiclass Classification:\n",
    "\n",
    "Description: Extends classification to multiple classes, allowing data to be categorized into more than two categories.\n",
    "Example Application: Handwriting recognition, classifying handwritten characters into letters or digits.\n",
    "\n",
    "Regression:\n",
    "\n",
    "Description: Predicts numerical values or continuous outcomes.\n",
    "Example Application: Predicting housing prices based on features like square footage, number of bedrooms, and location.\n",
    "\n",
    "Ordinal Regression:\n",
    "\n",
    "Description: Handles ordered categories, such as \"low,\" \"medium,\" and \"high.\"\n",
    "Example Application: Customer satisfaction surveys, where responses are categorized as \"unsatisfied,\" \"neutral,\" or \"satisfied.\"\n",
    "\n",
    "\n",
    "Imbalanced Classification:\n",
    "\n",
    "Description: Addresses class imbalance where one class has significantly fewer instances than others.\n",
    "Example Application: Fraud detection, identifying rare fraudulent transactions among a majority of legitimate ones.\n",
    "\n",
    "Time Series Forecasting:\n",
    "\n",
    "Description: Predicts future values in a time-ordered sequence of data.\n",
    "Example Application: Stock price prediction, forecasting future stock prices based on historical data.\n",
    "\n",
    "Sequence Labeling:\n",
    "\n",
    "Description: Assigns labels to each element in a sequence, often used in natural language processing.\n",
    "Example Application: Named entity recognition in text, tagging words as \"person,\" \"organization,\" or \"location.\"\n",
    "\n",
    "Structured Output Learning:\n",
    "\n",
    "Description: Learns structured output data, like graphs or trees.\n",
    "Example Application: Parsing natural language sentences to generate syntactic parse trees."
   ]
  },
  {
   "cell_type": "markdown",
   "id": "734a9895",
   "metadata": {},
   "source": [
    "Question 9. What is the difference between supervised and unsupervised learning? With a sample application\n",
    "in each region, explain the differences.\n"
   ]
  },
  {
   "cell_type": "markdown",
   "id": "cc62793c",
   "metadata": {},
   "source": [
    "Answer 9)\n",
    "Supervised machine learning is done using labeled data whereas unsupervised learning has no labeled data.\n",
    "\n",
    "  Classification of flowers in IRIS dataset is a very common application of supervised machine learning. The dataset has 4 features: Petal length, Petal width, Sepal length and Sepal width. Target variable contains labels Virginica, Versicolor and Setosa. If using Decision Trees algorithm, then labeled data is necessary for criterias or thresholds to be built that have to be either passed or failed by values of independent variables. The class labels are known beforehand and come from a finite set.\n",
    "\n",
    "  Clustering of customers based on their previous purchases on e-commerce websites requires unlabeled data. If k means algorithm is used then based on calculations of centroids, data points are classified into clusters. Since the class labels were not known beforehand but did come from a finite set, number of clusters initialized becomes highly important."
   ]
  },
  {
   "cell_type": "markdown",
   "id": "8371d139",
   "metadata": {},
   "source": [
    "Question 10. Describe the machine learning process in depth."
   ]
  },
  {
   "cell_type": "markdown",
   "id": "efc860bb",
   "metadata": {},
   "source": [
    "Answer 10)\n",
    "First step is to specify the problem statement we wish to solve\n",
    "    \n",
    "  Next, we collect data relevant to our problem statement. Data collection can be through webscraping, surveys, company records \n",
    "    \n",
    "  Data has to be cleaned and manipulated, null values removed or imputed. Cleaned data also needs to be split into training and test set so that it is usable by machine learning model for learning phase.\n",
    "    \n",
    "  We train the machine learning model over the collected and cleaned data. Training can be supervised or unsupervised, depending upon the problem statement and the availability of labeled data.\n",
    "    \n",
    "  Next, we test the trained machine learning model using performance metrics based on the type of problem we are solving and the algorithm we used. For Regression, we may use the R-squared value. For classification, we can use log losses, recall and precision scores etc. If unsupervised model is built, we might use the DB Index."
   ]
  },
  {
   "cell_type": "markdown",
   "id": "9dfba745",
   "metadata": {},
   "source": [
    "a. Make brief notes on any two of the following:"
   ]
  },
  {
   "cell_type": "markdown",
   "id": "2b75becf",
   "metadata": {},
   "source": [
    "\n",
    "i) MATLAB is one of the most widely used programming languages."
   ]
  },
  {
   "cell_type": "markdown",
   "id": "c84a6ebb",
   "metadata": {},
   "source": [
    "MATLAB short for Matrix Laboratory is a widely used programming language which finds its most usage in writing mathematically intensive, technical programs that have a very low space and time complexity issue. MATLAB has graph plotting capabilities, fast array-based computations, and large mathematical functions library."
   ]
  },
  {
   "cell_type": "markdown",
   "id": "07a35c52",
   "metadata": {},
   "source": [
    "ii. Deep learning applications in healthcare"
   ]
  },
  {
   "cell_type": "markdown",
   "id": "7f99cd51",
   "metadata": {},
   "source": [
    "Deep learning is being put to good use in healthcare industry for automated detection of glucose levels in diabetic patients, detecting health problems and a lot more. Lung related issues can be detected by simply feeding the coughing sound data to deep learning models. The capability of deep learning models to go through a lot of data and still be able to make accurate predictions makes it appropriate for the next revolution in healthcare."
   ]
  },
  {
   "cell_type": "markdown",
   "id": "5df4134d",
   "metadata": {},
   "source": [
    "11.1) Generalization and abstraction"
   ]
  },
  {
   "cell_type": "markdown",
   "id": "348e1e9e",
   "metadata": {},
   "source": [
    "Generalization is the characteristic of a machine learning model that dictates how much variations in the input data regarding problem statement can a model handle. Low generalization would mean that the model will not be able to give correct results over varied data, meaning overfitting or high variance. High generalization would mean that the model will be able to give correct results over varied data.\n",
    "\n",
    "   Abstraction is a step in machine learning process where the simplification of the problem is done to make the process more streamlined and more efficient while using less memory. Abstraction can constitute one or more steps. Feature selection, dimensionality reduction are some of the examples."
   ]
  },
  {
   "cell_type": "markdown",
   "id": "e3640ea5",
   "metadata": {},
   "source": [
    "11.2) Learning that is guided and unsupervised"
   ]
  },
  {
   "cell_type": "markdown",
   "id": "ca48caa9",
   "metadata": {},
   "source": [
    "Supervised machine learning requires labeled data. Performance metrics are different for regression and classification problems. Number of class labels are known beforehand. Computationally taxing on the machine.\n",
    "\n",
    "   Unsupervised machine learning is done on unlabeled data. Unsupervised machine learning performance metrics are applicable for all problems being solved by this approach. Number of class labels is not known beforehand. Computationally not as taxing as supervised machine learning."
   ]
  },
  {
   "cell_type": "markdown",
   "id": "20fdf5b1",
   "metadata": {},
   "source": [
    "11.3) Regression and classification"
   ]
  },
  {
   "cell_type": "markdown",
   "id": "da1c675c",
   "metadata": {},
   "source": [
    "Regression involves predicting the value of target variable using labeled data, based on the values of independent variables. The values of target variable belong to an open set.\n",
    "\n",
    "   Classification involves predicting the value of target variable using either labeled or unlabeled data, based on values of independent variables. The values of target variable belong to a finite set"
   ]
  }
 ],
 "metadata": {
  "kernelspec": {
   "display_name": "Python 3 (ipykernel)",
   "language": "python",
   "name": "python3"
  },
  "language_info": {
   "codemirror_mode": {
    "name": "ipython",
    "version": 3
   },
   "file_extension": ".py",
   "mimetype": "text/x-python",
   "name": "python",
   "nbconvert_exporter": "python",
   "pygments_lexer": "ipython3",
   "version": "3.9.12"
  }
 },
 "nbformat": 4,
 "nbformat_minor": 5
}
