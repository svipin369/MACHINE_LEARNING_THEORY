{
 "cells": [
  {
   "cell_type": "markdown",
   "id": "95aa8a68",
   "metadata": {},
   "source": [
    "# Assignment_16"
   ]
  },
  {
   "cell_type": "markdown",
   "id": "e0f889a1",
   "metadata": {},
   "source": [
    "Question 1. In a linear equation, what is the difference between a dependent variable and an independent\n",
    "variable?"
   ]
  },
  {
   "cell_type": "markdown",
   "id": "4bf2f427",
   "metadata": {},
   "source": [
    "Answer 1\n",
    "Dependent variable is one whose values are dependent on the values of independent variable. In other words, the independent variable's values dictate the values of the dependent variable. In a linear equation, this would mean that the dependent variable would be in a linear relationship with the dependent variable."
   ]
  },
  {
   "cell_type": "markdown",
   "id": "c2cf0104",
   "metadata": {},
   "source": [
    "Question 2. What is the concept of simple linear regression? Give a specific example."
   ]
  },
  {
   "cell_type": "markdown",
   "id": "b255facc",
   "metadata": {},
   "source": [
    "Answer 2 \n",
    "Simple linear regression is a statistical method used to model the relationship between two variables, typically denoted as X and Y, with the goal of predicting or explaining one variable based on the other. In simple linear regression, it is assumed that there is a linear relationship between the independent variable (X) and the dependent variable (Y). This means that changes in the independent variable are associated with a constant change in the dependent variable.\n",
    "\n",
    "The simple linear regression model is typically represented by the equation:\n",
    "\n",
    "Y=a+bX\n",
    "\n",
    "Where:\n",
    "Y is the dependent variable (the variable we want to predict or explain).\n",
    "X is the independent variable (the variable we use to make predictions or explanations).\n",
    "a is the intercept, which represents the predicted value of Y when X is zero.\n",
    "b is the slope of the line, which represents the change in \n",
    "\n",
    "Y for a one-unit change in X.\n",
    "The goal of simple linear regression is to estimate the values of a and b from the available data so that we can make predictions about Y for different values of (X).\n",
    "\n",
    "The slope is a crucial parameter in linear regression because it provides information about the direction and strength of the relationship between the variables. A positive slope indicates a positive correlation, meaning that as X increases, \n",
    "Y tends to increase as well. A negative slope indicates a negative correlation, meaning that as \n",
    "X increases, Y tends to decrease.\n",
    "Estimating the slope is a fundamental step in linear regression analysis, as it allows us to make predictions and understand how changes in the independent variable impact the dependent variable.\n"
   ]
  },
  {
   "cell_type": "markdown",
   "id": "e16766a0",
   "metadata": {},
   "source": [
    "Question 3. In a linear regression, define the slope."
   ]
  },
  {
   "cell_type": "markdown",
   "id": "0b187322",
   "metadata": {},
   "source": [
    "In a linear regression model, the \"slope\" refers to the coefficient (parameter) that represents the change in the dependent variable (Y) for a one-unit change in the independent variable (X). It quantifies the steepness or incline of the linear relationship between the two variables. Mathematically, the slope is denoted as \"b\" in the simple linear regression model:\n",
    "\n",
    "The simple linear regression model is typically represented by the equation:\n",
    "\n",
    "Y=a+bX\n",
    "\n",
    "Where:\n",
    "Y is the dependent variable (the variable we want to predict or explain).\n",
    "X is the independent variable (the variable we use to make predictions or explanations).\n",
    "a is the intercept, which represents the predicted value of Y when X is zero.\n",
    "b is the slope of the line, which represents the change in \n",
    "\n",
    "Y for a one-unit change in X.\n",
    "The goal of simple linear regression is to estimate the values of a and b from the available data so that we can make predictions about Y for different values of (X).\n"
   ]
  },
  {
   "cell_type": "markdown",
   "id": "e8931ab2",
   "metadata": {},
   "source": [
    "Question 4. Determine the graph&#39;s slope, where the lower point on the line is represented as (3, 2) and the\n",
    "higher point is represented as (2, 2)."
   ]
  },
  {
   "cell_type": "markdown",
   "id": "e188fa06",
   "metadata": {},
   "source": [
    "Slope would be 3/2 or 1.5"
   ]
  },
  {
   "cell_type": "markdown",
   "id": "68ca8ca9",
   "metadata": {},
   "source": [
    "Question 5. In linear regression, what are the conditions for a positive slope?"
   ]
  },
  {
   "cell_type": "markdown",
   "id": "abf2958e",
   "metadata": {},
   "source": [
    "For a positive slope, the two linearly related variables must have a positive correlation coefficient. (positive slope)"
   ]
  },
  {
   "cell_type": "markdown",
   "id": "5eacb95c",
   "metadata": {},
   "source": [
    "6. In linear regression, what are the conditions for a negative slope?"
   ]
  },
  {
   "cell_type": "markdown",
   "id": "cd0b9f0d",
   "metadata": {},
   "source": [
    "Answer 6\n",
    "For a positive slope, the two linearly related variables must have a negative correlation coefficient. (negative slope)"
   ]
  },
  {
   "cell_type": "markdown",
   "id": "2c1ac52e",
   "metadata": {},
   "source": [
    "Question 7. What is multiple linear regression and how does it work?"
   ]
  },
  {
   "cell_type": "markdown",
   "id": "c290b781",
   "metadata": {},
   "source": [
    "Answer 7\n",
    "Multiple linear regression is an extension of the concept of simple linear regression where a single dependent variable is linearly correlated and is in linear relationship with multiple independent variables."
   ]
  },
  {
   "cell_type": "markdown",
   "id": "743d27d7",
   "metadata": {},
   "source": [
    "Question 8. In multiple linear regression, define the number of squares due to error."
   ]
  },
  {
   "cell_type": "markdown",
   "id": "411e5568",
   "metadata": {},
   "source": [
    "Answer 8.\n",
    "In multiple linear regression, the term \"number of squares due to error\" typically refers to the residual sum of squares (RSS) or the sum of squared residuals. The residual sum of squares quantifies the total unexplained variation or error in the model. It is a measure of how well the regression model fits the data by assessing the difference between the observed values (the actual data points) and the predicted values (values predicted by the model).\n"
   ]
  },
  {
   "cell_type": "markdown",
   "id": "e946f998",
   "metadata": {},
   "source": [
    "Question 9. In multiple linear regression, define the number of squares due to regression."
   ]
  },
  {
   "cell_type": "markdown",
   "id": "53603474",
   "metadata": {},
   "source": [
    "Answer 9. Regression sum of squares (also known as the sum of squares due to regression or explained sum of squares)\n",
    "The regression sum of squares describes how well a regression model represents the modeled data. A higher \n",
    "regression sum of squares indicates that the model does not fit the data well."
   ]
  },
  {
   "cell_type": "markdown",
   "id": "b3a8da29",
   "metadata": {},
   "source": [
    "Question 10.In a regression equation, what is multicollinearity?"
   ]
  },
  {
   "cell_type": "markdown",
   "id": "6a4e03df",
   "metadata": {},
   "source": [
    "Answer 10.\n",
    "In regression, \"multicollinearity\" refers to predictors that are correlated with other predictors.\n",
    "Multicollinearity occurs when your model includes multiple factors that are correlated not just to your\n",
    "response variable, but also to each other. In other words, it results when you have factors that are a\n",
    "bit redundant."
   ]
  },
  {
   "cell_type": "markdown",
   "id": "aed5fd43",
   "metadata": {},
   "source": [
    "Question 11. What is heteroskedasticity, and what does it mean?"
   ]
  },
  {
   "cell_type": "markdown",
   "id": "3b5855de",
   "metadata": {},
   "source": [
    "Answer 11\n",
    "heteroskedasticity (or heteroscedasticity) happens when the standard deviations of a predicted variable, \n",
    "monitored over different values of an independent variable or as related to prior time periods, are \n",
    "non-constant. With heteroskedasticity, the tell-tale sign upon visual inspection of the residual errors\n",
    "is that they will tend to fan out over time"
   ]
  },
  {
   "cell_type": "markdown",
   "id": "00797677",
   "metadata": {},
   "source": [
    "Question 12. Describe the concept of ridge regression."
   ]
  },
  {
   "cell_type": "markdown",
   "id": "2ed6344b",
   "metadata": {},
   "source": [
    "Answer 12 \n",
    "Ridge Regression is a technique for analyzing multiple regression data that suffer from multicollinearity.\n",
    "When multicollinearity occurs, least squares estimates are unbiased, but their variances are large so they\n",
    "may be far from the true value."
   ]
  },
  {
   "cell_type": "markdown",
   "id": "cb67911c",
   "metadata": {},
   "source": [
    "Question 13. Describe the concept of lasso regression."
   ]
  },
  {
   "cell_type": "markdown",
   "id": "7ed7a606",
   "metadata": {},
   "source": [
    "Answer 13.\n",
    "Lasso regression is a regularization technique. It is used over regression methods for a more accurate\n",
    "prediction. This model uses shrinkage. Shrinkage is where data values are shrunk towards a central point \n",
    "as the mean."
   ]
  },
  {
   "cell_type": "markdown",
   "id": "96de0125",
   "metadata": {},
   "source": [
    "Question 14.14. What is polynomial regression and how does it work?"
   ]
  },
  {
   "cell_type": "markdown",
   "id": "db510179",
   "metadata": {},
   "source": [
    "Answer 14\n",
    "Polynomial regression models can bend. They can be constructed to the nth-degree to minimize squared \n",
    "error and maximize rsquared. Depending on the nth degree, the line of best fit can have more or less \n",
    "curves. The higher the exponent, the more numerous the curves.\n",
    "y=m0+m1*x^1+m2*x^2\n",
    "Here y:dependent variable\n",
    "    m0 is the constant\n",
    "    mi is the slope and x^i is the dependent variable and so on"
   ]
  },
  {
   "cell_type": "markdown",
   "id": "1a5de808",
   "metadata": {},
   "source": [
    "Question 15. Describe the basis function."
   ]
  },
  {
   "cell_type": "markdown",
   "id": "740b7ba4",
   "metadata": {},
   "source": [
    "Answer 15\n",
    "A basis function is an element of a particular basis for a function space. Every function in the function\n",
    "space can be represented as a linear combination of basis functions, just as every vector in a vector \n",
    "space can be represented as a linear combination of basis vectors.This is a generalization of linear \n",
    "regression that essentially replaces each input with a function of the input. (A linear basis function\n",
    "model that uses the identity function is just linear regression."
   ]
  },
  {
   "cell_type": "markdown",
   "id": "552be232",
   "metadata": {},
   "source": [
    "Question 16. Describe how logistic regression works."
   ]
  },
  {
   "cell_type": "markdown",
   "id": "be94c50c",
   "metadata": {},
   "source": [
    "Answer 16\n",
    "Logistic regression measures the relationship between the categorical dependent variable and one or more\n",
    "independent variables by estimating probabilities using a logistic function, which is the cumulative\n",
    "distribution function of logistic distribution.\n",
    "log(p/1-p) is the link function. Logarithmic transformation on the outcome variable allows us to model \n",
    "a non-linear association in a linear way. This is the equation used in Logistic Regression. "
   ]
  }
 ],
 "metadata": {
  "kernelspec": {
   "display_name": "Python 3 (ipykernel)",
   "language": "python",
   "name": "python3"
  },
  "language_info": {
   "codemirror_mode": {
    "name": "ipython",
    "version": 3
   },
   "file_extension": ".py",
   "mimetype": "text/x-python",
   "name": "python",
   "nbconvert_exporter": "python",
   "pygments_lexer": "ipython3",
   "version": "3.9.12"
  }
 },
 "nbformat": 4,
 "nbformat_minor": 5
}
