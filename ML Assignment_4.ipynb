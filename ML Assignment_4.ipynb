{
 "cells": [
  {
   "cell_type": "markdown",
   "id": "a2657ace",
   "metadata": {},
   "source": [
    "# Assignment_4"
   ]
  },
  {
   "cell_type": "markdown",
   "id": "2d1063a2",
   "metadata": {},
   "source": [
    "Question 1. What are the key tasks involved in getting ready to work with machine learning modeling?"
   ]
  },
  {
   "cell_type": "markdown",
   "id": "b5ca7db8",
   "metadata": {},
   "source": [
    "Answer 1)\n",
    "First is to define a problem statement that we wish to solve using machine learning.\n",
    "\t\n",
    " Second is to collect data for our machine learning problem statement.\n",
    "\t\n",
    " Third is to tabulate that data.\n",
    "\t\n",
    " Fourth is to clean the data. Cleaning the data may include imputing missing values, removing outliers, standardizing the keywords or headers, conversions to proper datatypes etc.\n",
    "\t\n",
    " Fifth step would be to perform an exploratory data analysis to find the key details that would later help in our modeling.\n",
    "\t\n",
    " Last step before machine learning modelling can begin would be to standardize data and split the cleaned data into training and test data."
   ]
  },
  {
   "cell_type": "markdown",
   "id": "6adbefbb",
   "metadata": {},
   "source": [
    "Question 2. What are the different forms of data used in machine learning? Give a specific example for each of\n",
    "them."
   ]
  },
  {
   "cell_type": "markdown",
   "id": "11aa36e0",
   "metadata": {},
   "source": [
    "Answer 2)\n",
    "Qualitative data - One that does not necessarily have an order to it and is categorical in nature. For example, in IRIS dataset, the qualitative data would be the variety having class labels or categories Virginicolor, Setosa and Versicolor\n",
    "\t\n",
    " Quantitative data - One that has an order to it and is numerical in nature. For example, Petal length in IRIS dataset is a quantitative data.\n",
    "\t\n",
    " Time series data - Time series data is one that has time based data. For example, Any covid-19 based data will have date time against infections, death etc. because time plays an important role in Covid analysis in finding the spread rate etc.\n",
    "\t\n",
    " Text based data - String based data that are generally remarks, comments or reviews, used for Natural Language Processing.\n"
   ]
  },
  {
   "cell_type": "markdown",
   "id": "065b25cd",
   "metadata": {},
   "source": [
    "Question 3. Distinguish between\n",
    "\n",
    "        "
   ]
  },
  {
   "cell_type": "markdown",
   "id": "54844115",
   "metadata": {},
   "source": [
    "1.Numeric vs categorical attributes\n",
    "\n"
   ]
  },
  {
   "cell_type": "markdown",
   "id": "c7451e90",
   "metadata": {},
   "source": [
    "Numerical attributes are those data types that are numerical in nature. More importantly, they have an order to themselves, are mathematical and can be of integer or float datatype\n",
    "\t\n",
    "Categorical attributes are those data types that provide characteristics of something. It can be numeric but without any order or mathematical meaning to it."
   ]
  },
  {
   "cell_type": "markdown",
   "id": "1b5ab1c4",
   "metadata": {},
   "source": [
    "2. Feature selection vs. dimensionality reduction"
   ]
  },
  {
   "cell_type": "markdown",
   "id": "0719ee19",
   "metadata": {},
   "source": [
    "Feature selection:\n",
    "\n",
    "Feature selection involves choosing a subset of the most relevant features from the original set of features to improve model performance, interpretability, and reduce computational complexity.\n",
    "It retains a subset of the original features, making it easier to understand the relationship between input variables and the target outcome.\n",
    "\n",
    "Eg.-Imagine you have a lot of ingredients to choose from to make a delicious meal. Feature selection is like picking only the most important ingredients you need to make your dish tasty. You leave out the ones that won't really make a difference or might even make it worse. This way, your recipe is easier to follow, and you can still enjoy a great meal.\n",
    "\n",
    "Dimensionality reduction \n",
    "It is the process of transforming the data into a lower-dimensional space while preserving as much information as possible. This is done by creating new features that are combinations of the original features. Dimensionality reduction can be performed using a variety of methods, such as principal component analysis (PCA), t-distributed stochastic neighbor embedding (t-SNE), and uniform manifold approximation and projection (UMAP).\n",
    "Eg.-Now, think about having too many spices and herbs in your kitchen, and you want to simplify things. Dimensionality reduction is like mixing some of those spices together to create a new spice blend that captures the essence of the original ones."
   ]
  },
  {
   "cell_type": "markdown",
   "id": "e44e7737",
   "metadata": {},
   "source": [
    "Question 4. Make quick notes on any two of the following:"
   ]
  },
  {
   "cell_type": "markdown",
   "id": "b543d9e0",
   "metadata": {},
   "source": [
    "1.Histogram"
   ]
  },
  {
   "cell_type": "markdown",
   "id": "eb5aef43",
   "metadata": {},
   "source": [
    "A histogram is a visual representation of data that shows how often different values occur. It groups data into bins and uses bars to represent the frequency of values in each bin, helping to visualize data distribution quickly.\n",
    "\n",
    "Histograms are commonly used to display the distribution of data and identify patterns or trends. Here's an example of how histograms can be used:\n",
    "\n",
    "Example: Exam Scores\n",
    "\n",
    "Let's say you're a teacher, and you want to understand how your students performed on a recent math exam. You have the following scores:\n",
    "\n",
    "60, 65, 70, 75, 78, 80, 82, 85, 88, 90, 92, 95, 98, 100\n",
    "To create a histogram from these scores, you would first decide on the \"bins\" or intervals. In this case, you might choose bins of size 10, like this:\n",
    "\n",
    "60-69, 70-79, 80-89, 90-99, 100\n",
    "Then, you count how many scores fall into each bin:\n",
    "\n",
    "60-69: 2\n",
    "70-79: 4\n",
    "80-89: 4\n",
    "90-99: 4\n",
    "100: 1"
   ]
  },
  {
   "cell_type": "markdown",
   "id": "5a5955e3",
   "metadata": {},
   "source": [
    "2) Use a Scatter plot"
   ]
  },
  {
   "cell_type": "markdown",
   "id": "be51f737",
   "metadata": {},
   "source": [
    "A scatter plot is often used to visualize the relationship between two variables. Scatter plots are used to plot 2-D or 3-D plots using 2 or 3 variables of data points. They are important in visually finding trends in data with low dimensionality.\n",
    "Let's consider an example:\n",
    "Example: Exam Scores vs. Study Hours\n",
    "\n",
    "Imagine you want to understand how the number of hours students spend studying relates to their exam scores. \n",
    "Student\tStudy Hours\tExam Score \n",
    "A\t        2\t      65\n",
    "B\t        3\t      70\n",
    "C\t        4\t      75\n",
    "D\t        5\t      78\n",
    "E\t        6\t      80\n",
    "F\t        7\t      85\n",
    "\n",
    "To create a scatter plot from this data, you would plot each student's study hours on the x-axis and their exam score on the y-axis.\n",
    "\n",
    "   100 |                                                 \n",
    "       |                                                  \n",
    "    95 |                                      \n",
    "       |                                 \n",
    "    90 |                           \n",
    "       |                *     \n",
    "    85 |           *      *\n",
    "       |     *      *\n",
    "    80 | * \n",
    "       | \n",
    "    75 | \n",
    "       +---------------------------\n",
    "       2      4       6       8        (Study Hours)\n"
   ]
  },
  {
   "cell_type": "markdown",
   "id": "3cfe00ec",
   "metadata": {},
   "source": [
    "Question 5. Why is it necessary to investigate data? Is there a discrepancy in how qualitative and quantitative\n",
    "data are explored?"
   ]
  },
  {
   "cell_type": "markdown",
   "id": "e0429a46",
   "metadata": {},
   "source": [
    "Answer 5)\n",
    "Investigation of data is important to find trends, note interesting points, find errors and missing values and outliers that may require remedy. Quantitative data exploration requires numbers recieved from observation and experiment. Qualitative data exploration is different as most of it hinges on frequency table to formulate observations."
   ]
  },
  {
   "cell_type": "markdown",
   "id": "dcba4cc6",
   "metadata": {},
   "source": [
    "Question 6). What are the various histogram shapes? What exactly are ‘bins'?\n"
   ]
  },
  {
   "cell_type": "markdown",
   "id": "a3cbf383",
   "metadata": {},
   "source": [
    "Histogram shapes can be left skewed, right skewed, approximately normal, approximately uniform, bimodal and more. Bins are classes in which several qualitative values are clubbed together based on required granularity along with their corresponding frequencies"
   ]
  },
  {
   "cell_type": "markdown",
   "id": "543bae77",
   "metadata": {},
   "source": [
    "Question 7. How do we deal with data outliers?"
   ]
  },
  {
   "cell_type": "markdown",
   "id": "d1254095",
   "metadata": {},
   "source": [
    "Answer 7)\n",
    "Dealing with data outliers is important because outliers, which are data points significantly different from the majority of the data, can negatively impact the performance and accuracy of statistical models. Here are some common approaches:\n",
    "\n",
    "Remove outliers: This is the simplest approach, but it can also be the most dangerous. If you remove outliers without understanding why they are there, you could be discarding valuable information.\n",
    "\n",
    "Impute outliers: Instead of removing outliers, you can replace them with estimated values. This is often done using the mean, median, or mode of the data. \n",
    "\n",
    "Transform the data: You can also transform the data to reduce the impact of outliers. For example, you could take the log of the data or normalize it.\n",
    "\n",
    "Use robust statistical methods: Some statistical methods are less sensitive to outliers than others. For example, you could use the median instead of the mean to calculate the central tendency of the data."
   ]
  },
  {
   "cell_type": "markdown",
   "id": "2b9cdba9",
   "metadata": {},
   "source": [
    "Question 8. What are the various central inclination measures? Why does mean vary too much from median in\n",
    "certain data sets?"
   ]
  },
  {
   "cell_type": "markdown",
   "id": "2f275025",
   "metadata": {},
   "source": [
    "Answer 8)\n",
    "The three most common central tendency measures are the mean, median, and mode.\n",
    "\n",
    "Mean: The mean is the arithmetic average of all the values in a dataset. It is calculated by adding up all the values and dividing by the number of values.\n",
    "\n",
    "Median: The median is the middle value in a dataset when the values are arranged in order. If there are two middle values, the median is the average of those two values.\n",
    "\n",
    "Mode: The mode is the most frequent value in a dataset.\n",
    "\n",
    "The mean can vary significantly from the median in certain datasets, mainly due to the presence of outliers or skewness in the data distribution.\n",
    "Outliers: Outliers are extreme values that are significantly different from the majority of the data. If a dataset contains outliers, the mean is strongly influenced by these extreme values. \n",
    "\n",
    "Skewness: Skewness refers to the asymmetry of the data distribution. If the data is positively skewed (meaning it's stretched out to the right), the mean tends to be greater than the median because the mean is sensitive to extreme high values. Conversely, if the data is negatively skewed (stretched out to the left), the mean tends to be less than the median. In a perfectly symmetrical distribution, the mean and median are equal."
   ]
  },
  {
   "cell_type": "markdown",
   "id": "10706762",
   "metadata": {},
   "source": [
    "Question 9. Describe how a scatter plot can be used to investigate bivariate relationships. Is it possible to find\n",
    "outliers using a scatter plot?"
   ]
  },
  {
   "cell_type": "markdown",
   "id": "d934de07",
   "metadata": {},
   "source": [
    "Answer 9)\n",
    "A scatter plot is a type of graph that can be used to investigate bivariate relationships. A bivariate relationship is a relationship between two variables. To create a scatter plot, you plot each data point on the graph, with the x-axis representing one variable and the y-axis representing the other variable.\n",
    "\n",
    "Once you have created a scatter plot, you can look for patterns in the data. For example, you can look to see if the points seem to be clustered together in certain areas of the graph. This could indicate a positive correlation between the two variables, meaning that as one variable increases, the other variable also tends to increase.\n",
    "\n",
    "You can also look to see if the points seem to be spread out more evenly over the graph. This could indicate a negative correlation between the two variables, meaning that as one variable increases, the other variable tends to decrease.\n",
    "\n",
    "Finally, you can look to see if there are any outliers in the data. Outliers are data points that fall far away from the rest of the data.\n",
    "\n",
    "Finding Outliers with a Scatter Plot:\n",
    "\n",
    "Outliers are like the oddballs in the data. They are the points that don't fit the pattern you see in the graph.\n",
    "\n",
    "You can spot outliers by looking at the graph. They are the dots that are really far away from the others. So, if most dots are close together, and there's one dot way off by itself, that's an outlier.\n",
    "\n",
    "Sometimes, you can also use math to figure out if a dot is an outlier. For example, if a dot is much higher or lower than most of the others, it might be an outlier."
   ]
  },
  {
   "cell_type": "markdown",
   "id": "84e7b720",
   "metadata": {},
   "source": [
    "Question 10) Describe how cross-tabs can be used to figure out how two variables are related."
   ]
  },
  {
   "cell_type": "markdown",
   "id": "9047beff",
   "metadata": {},
   "source": [
    "Answer 10)\n",
    "Cross-tabulation, often referred to as a crosstab or contingency table, is a method used to examine the relationship between two categorical variables in a dataset. It helps to summarize and display how these two variables are related by showing the frequency or count of data points that fall into various categories.\n",
    "\n",
    "Imagine you have information about two things: the type of fruit people like (like apples or bananas) and the color of their favorite T-shirt (like red or blue). You want to know if there's any connection between these two things.\n",
    "\n",
    "Create a Table: First, you make a table with rows and columns. One thing, like fruit preference, goes on the left side (rows), and the other thing, like T-shirt color, goes on the top (columns).\n",
    "\n",
    "Count: Now, you start counting how many people like each combination. For example, how many people like apples and wear red T-shirts, how many like apples and wear blue T-shirts, and so on.\n",
    "\n",
    "Look at the Numbers: You look at the numbers in the table. If you see a lot of people who like apples and wear red T-shirts, it might mean that there's a connection between liking apples and choosing red T-shirts.\n",
    "\n",
    "Compare the Totals: You can also check how many people like each fruit and how many prefer each T-shirt color. This helps you understand what's most popular overall.\n",
    "\n",
    "Conclude: After studying the table, you can make conclusions like, \"Many people who like apples also prefer red T-shirts,\" or \"There doesn't seem to be a strong connection between fruit preference and T-shirt color.\"\n"
   ]
  }
 ],
 "metadata": {
  "kernelspec": {
   "display_name": "Python 3 (ipykernel)",
   "language": "python",
   "name": "python3"
  },
  "language_info": {
   "codemirror_mode": {
    "name": "ipython",
    "version": 3
   },
   "file_extension": ".py",
   "mimetype": "text/x-python",
   "name": "python",
   "nbconvert_exporter": "python",
   "pygments_lexer": "ipython3",
   "version": "3.9.12"
  }
 },
 "nbformat": 4,
 "nbformat_minor": 5
}
