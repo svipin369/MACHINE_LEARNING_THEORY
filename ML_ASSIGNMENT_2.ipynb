{
 "cells": [
  {
   "cell_type": "markdown",
   "id": "3f572709",
   "metadata": {},
   "source": [
    "# Assignment_2"
   ]
  },
  {
   "cell_type": "markdown",
   "id": "f9e30d2d",
   "metadata": {},
   "source": [
    "Question 1) What is the concept of human learning? Please give two examples."
   ]
  },
  {
   "cell_type": "markdown",
   "id": "415c5b79",
   "metadata": {},
   "source": [
    "Answer 1)\n",
    "The concept of human learning refers to the process by which humans acquire knowledge, skills, behaviors, and understanding through experience, study, practice, or teaching. It is a fundamental cognitive and behavioral process that allows individuals to adapt to their environment and improve their abilities over time. \n",
    "\n",
    "Example 1: A child learns to walk by observing and imitating their parents and caregivers. They also learn through trial and error. As they practice walking, they develop the necessary skills and muscle coordination to walk safely and independently.\n",
    "\n",
    "Example 2: A student learns about the solar system by reading books and articles, watching documentaries, and attending science class. They also learn by discussing the solar system with their classmates and teachers"
   ]
  },
  {
   "cell_type": "markdown",
   "id": "5081bad6",
   "metadata": {},
   "source": [
    "Question 2. What different forms of human learning are there? Are there any machine learning equivalents?"
   ]
  },
  {
   "cell_type": "markdown",
   "id": "83dcca6e",
   "metadata": {},
   "source": [
    "Answer 2)\n",
    "\n",
    "Human learning can take various forms, and each form serves different purposes and involves distinct cognitive processes. Here are some of the primary forms of human learning, along with machine learning equivalents or analogies where applicable:\n",
    "\n",
    "I)Supervised Learning (Human Learning):\n",
    "\n",
    "Description: In supervised learning, humans learn from labeled examples, where each example consists of input data and corresponding target labels. The goal is to learn a mapping from inputs to labels.\n",
    "\n",
    "Machine Learning Equivalent: Supervised learning in machine learning is analogous to human learning when, for instance, a person learns to classify objects (e.g., identifying different types of animals) by being provided with labeled training examples.\n",
    "\n",
    "II)Unsupervised Learning (Human Learning):\n",
    "\n",
    "Description: Unsupervised learning involves discovering patterns, structures, or relationships in data without explicit labels or guidance. It often includes tasks like clustering and dimensionality reduction.\n",
    "\n",
    "Machine Learning Equivalent: Clustering algorithms in machine learning (e.g., K-means) can be seen as analogous to human learning when individuals group objects or concepts based on shared characteristics or similarities.\n",
    "\n",
    "III)Reinforcement Learning (Human Learning):\n",
    "\n",
    "Description: In reinforcement learning, humans (or agents) learn to make decisions by interacting with an environment. They receive feedback in the form of rewards or penalties based on their actions and use this feedback to improve their decision-making over time.\n",
    "Machine Learning Equivalent: Reinforcement learning algorithms, such as Q-learning and deep reinforcement learning, emulate the process of learning optimal decision-making policies in dynamic environments. Examples include training robots to perform tasks and teaching algorithms to play games.\n",
    "\n",
    "IV)Self-Supervised Learning (Human Learning):\n",
    "\n",
    "Description: Self-supervised learning involves learning from data without external labels. Instead, the learning process generates labels from the data itself, often by predicting missing parts of the input data.\n",
    "Machine Learning Equivalent: Self-supervised learning in machine learning uses similar principles to learn useful representations of data. For instance, a machine learning model might learn to predict missing words in a sentence as a form of self-supervised learning for natural language processing.\n",
    "\n",
    "V)Deep Learning (Neural Networks):\n",
    "\n",
    "Description: Deep learning is a subfield of machine learning inspired by the structure and function of the human brain. Deep neural networks consist of interconnected layers of artificial neurons and are capable of learning complex patterns from data.\n",
    "Human Learning Equivalent: While deep learning itself is a machine learning technique, its inspiration from neural networks is analogous to the way humans learn and process information through interconnected neurons in the brain."
   ]
  },
  {
   "cell_type": "markdown",
   "id": "8105a20a",
   "metadata": {},
   "source": [
    "Question 3) What is machine learning, and how does it work? What are the key responsibilities of machine\n",
    "learning?"
   ]
  },
  {
   "cell_type": "markdown",
   "id": "29acbd59",
   "metadata": {},
   "source": [
    "Answer 3)\n",
    "Machine learning is a subset of artificial intelligence (AI) that focuses on developing algorithms and models that enable computer systems to learn from and make predictions or decisions based on data \n",
    " In essence, machine learning involves creating mathematical models that can generalize patterns and relationships from data to perform specific tasks.\n",
    "\n",
    "How Machine Learning Works:\n",
    "\n",
    "Data Collection: The first step in any machine learning project is collecting and preparing a dataset.It can be structured (e.g., tabular data) or unstructured (e.g., text, images, audio).\n",
    "\n",
    "Data Preprocessing: Raw data is often messy and may require cleaning, transformation, and feature engineering to make it suitable for machine learning algorithms.\n",
    "\n",
    "Model Selection: Machine learning practitioners choose an appropriate machine learning algorithm or model architecture based on the nature of the problem, the dataset, and the desired output. Common algorithms include decision trees, neural networks, support vector machines, and more.\n",
    "\n",
    "Model Training: The selected model is trained using the prepared dataset. During training, the model learns to identify patterns, relationships, or representations within the data. The training process involves adjusting the model's internal parameters to minimize a specified loss or error function.\n",
    "\n",
    "Evaluation: After training, the model's performance is assessed using evaluation metrics specific to the task at hand. Common metrics include accuracy, precision, recall, F1-score, and mean squared error, among others.\n",
    "\n",
    "Hyperparameter Tuning: Machine learning practitioners often fine-tune hyperparameters (e.g., learning rate, regularization strength) to optimize the model's performance on the evaluation metric. This process may involve techniques like grid search or random search.\n",
    "\n",
    "Deployment: Once a satisfactory model is trained and evaluated, it can be deployed in real-world applications to make predictions or decisions based on new, unseen data.\n",
    "\n",
    "Monitoring and Maintenance: Machine learning models require ongoing monitoring and maintenance to ensure they continue to perform well as data distributions change over time.\n",
    "\n",
    "Key Responsibilities of Machine Learning:\n",
    "\n",
    "Pattern Recognition: Machine learning is responsible for identifying and recognizing patterns, relationships, or structures within data.\n",
    "\n",
    "Generalization: ML models must generalize from the training data to make accurate predictions on new, unseen data. \n",
    "\n",
    "Automation: One of the primary responsibilities of machine learning is automating tasks that would be difficult or time-consuming for humans to perform manually. This includes tasks like image recognition, natural language processing, and recommendation systems.\n",
    "\n",
    "Adaptation: Machine learning models can adapt to changing data distributions and evolving patterns, making them suitable for dynamic and evolving environments.\n",
    "\n",
    "Prediction and Decision-Making: ML models are used for making predictions, classifications, and decisions based on data. This can range from predicting customer preferences to identifying fraudulent transactions.\n",
    "\n",
    "Optimization: Machine learning is responsible for optimizing model parameters and hyperparameters to achieve the best possible performance on specific tasks.\n",
    "\n",
    "Scalability: ML models can be scaled to handle large and complex datasets, making them suitable for big data applications.\n",
    "\n",
    "Continuous Improvement: Machine learning models can be refined and improved over time as more data becomes available and as better algorithms or techniques are developed."
   ]
  },
  {
   "cell_type": "markdown",
   "id": "fa259de3",
   "metadata": {},
   "source": [
    "Question 4) Define the terms \"penalty\" and \"reward\" in the context of reinforcement learning."
   ]
  },
  {
   "cell_type": "markdown",
   "id": "748cc2f4",
   "metadata": {},
   "source": [
    "Answer 4) In the context of reinforcement learning, \"penalty\" and \"reward\" are fundamental concepts used to provide feedback to an agent (an AI system) as it interacts with an environment and learns to make decisions\n",
    "\n",
    "A penalty is a negative signal that is given to an agent when it takes an action that leads to a bad outcome.A \"penalty\" is a negative reward, which indicates that an action taken by the agent in a particular state was undesirable\n",
    "\n",
    "A reward is a positive signal that is given to an agent when it takes an action that leads to a good outcome.Rewards serve as the primary mechanism for reinforcing or encouraging desirable behaviors in reinforcement learning.\n",
    "\n",
    "Here are some examples of penalties and rewards in reinforcement learning:\n",
    "\n",
    "Penalty: A robot falls down when it tries to walk.\n",
    "Reward: A robot successfully reaches its destination.\n",
    "Penalty: A self-driving car gets into an accident.\n",
    "Reward: A self-driving car safely arrives at its destination.\n",
    "Penalty: A stock trader loses money on a trade.\n",
    "Reward: A stock trader makes money on a trade.\n",
    "\n"
   ]
  },
  {
   "cell_type": "markdown",
   "id": "f827101d",
   "metadata": {},
   "source": [
    "Question 5. Explain the term \"learning as a search\" ?"
   ]
  },
  {
   "cell_type": "markdown",
   "id": "cfb56d70",
   "metadata": {},
   "source": [
    "Answer 5-\n",
    "Learning as a search is a perspective on learning that views it as a process of searching through a space of possible hypotheses for the best hypothesis that fits the data. The hypothesis space is the set of all possible explanations for the data. The goal of learning is to find the hypothesis in the hypothesis space that best explains the data and that is most likely to be correct.\n",
    "\n",
    "Here is an example of how learning as a search can be used to train a machine learning model to classify images of cats and dogs:\n",
    "\n",
    "The model starts with a set of initial hypotheses about how to classify images of cats and dogs. These hypotheses are generated randomly.\n",
    "The model then evaluates each hypothesis on a set of training images.\n",
    "The model selects the hypothesis that performs best on the training images.\n",
    "The model repeats steps 2 and 3 until it finds a hypothesis that performs well on the training images.\n",
    "\n",
    "The model has now learned to classify images of cats and dogs. It has done this by searching through the space of possible hypotheses for the best hypothesis that fits the data."
   ]
  },
  {
   "cell_type": "markdown",
   "id": "88571600",
   "metadata": {},
   "source": [
    "Question 6. What are the various goals of machine learning? What is the relationship between these and\n",
    "human learning?"
   ]
  },
  {
   "cell_type": "markdown",
   "id": "b99b4480",
   "metadata": {},
   "source": [
    "Machine learning encompasses a variety of goals and objectives, each aimed at solving specific types of problems or achieving particular outcomes. Here are some of the primary goals of machine learning, along with their relationships to human learning:\n",
    "\n",
    "Classification:\n",
    "\n",
    "Goal: Classification involves categorizing data points into predefined classes or categories.\n",
    "Relationship to Human Learning: This is analogous to how humans learn to classify objects or concepts based on shared characteristics or features. For example, we learn to distinguish between different species of animals.\n",
    "\n",
    "Regression:\n",
    "\n",
    "Goal: Regression aims to predict numerical values or continuous outcomes. It involves learning a model that can make accurate predictions based on input data.\n",
    "Relationship to Human Learning: Humans also learn to make predictions involving numerical values. For instance, we might learn to predict the price of a house based on its characteristics.\n",
    "\n",
    "Clustering:\n",
    "\n",
    "Goal: Clustering involves grouping similar data points together based on their intrinsic properties or similarities. The goal is to discover natural groupings or clusters within the data.\n",
    "Relationship to Human Learning: Humans often group objects or concepts based on perceived similarities or common attributes. For example, we might cluster different fruits into categories like \"citrus fruits\" and \"berries.\"\n",
    "\n",
    "Anomaly Detection:\n",
    "\n",
    "Goal: Anomaly detection aims to identify data points that are unusual or significantly different from the majority of the data. It is used for detecting rare events or outliers.\n",
    "Relationship to Human Learning: Humans also have an innate ability to detect anomalies or outliers in their environment. For example, we might notice when something unusual happens in a familiar setting.\n",
    "\n",
    "Recommendation:\n",
    "\n",
    "Goal: Recommendation systems aim to provide personalized suggestions or recommendations to users based on their preferences or past behavior. The goal is to improve user experience and engagement.\n",
    "Relationship to Human Learning: Human learning involves adapting to individual preferences and making recommendations or decisions based on personal tastes and past experiences.\n",
    "\n",
    "Reinforcement Learning:\n",
    "\n",
    "Goal: Reinforcement learning focuses on training agents to make sequences of decisions in an environment to maximize cumulative rewards. \n",
    "Relationship to Human Learning: Human learning often involves learning from the consequences of our actions. For example, we learn to make decisions in games or real-life situations to achieve desired outcomes.\n",
    "\n",
    "Natural Language Processing (NLP):\n",
    "\n",
    "Goal: NLP in machine learning involves understanding, generating, and processing human language. It includes tasks like language translation, sentiment analysis, and chatbot interactions.\n",
    "Relationship to Human Learning: Humans naturally learn language and develop the ability to understand and communicate through words and sentences. NLP in machine learning attempts to replicate this human-like understanding of language.\n"
   ]
  },
  {
   "cell_type": "markdown",
   "id": "a831d853",
   "metadata": {},
   "source": [
    "Question 7. Illustrate the various elements of machine learning using a real-life illustration."
   ]
  },
  {
   "cell_type": "markdown",
   "id": "a4a77c18",
   "metadata": {},
   "source": [
    "Answer 7 )\n",
    "Here is a real-life illustration of the various elements of machine learning:\n",
    "\n",
    "Task: Building a machine learning model to predict whether a customer will churn (cancel their subscription) or not.\n",
    "\n",
    "Data: The data for this task could include historical data from the company's customer base, such as:\n",
    "\n",
    "Customer demographics (age, gender, location, etc.)\n",
    "Subscription history (length of subscription, number of products subscribed to, etc.)\n",
    "Support ticket history (number of tickets opened, types of tickets opened, etc.)\n",
    "Usage data (how often the customer uses the product, which features they use, etc.)\n",
    "\n",
    "Model: The machine learning model for this task could be a variety of different types of models, such as a logistic regression model, a random forest model, or a neural network model.\n",
    "\n",
    "Training: The model is trained on the historical data. During training, the model learns to identify patterns in the data that are associated with customer churn.\n",
    "\n",
    "Evaluation: Once the model is trained, it is evaluated on a held-out test set. This helps to assess how well the model will generalize to new data.\n",
    "\n",
    "Deployment: Once the model is evaluated and found to be performing well, it can be deployed to production. This means that the model can be used to predict whether new customers will churn or not.\n",
    "\n",
    "Benefits: This machine learning model can help the company to identify customers who are at risk of churning. The company can then take steps to retain these customers, such as offering them discounts or providing them with personalized support."
   ]
  },
  {
   "cell_type": "markdown",
   "id": "326aae48",
   "metadata": {},
   "source": [
    "\n",
    "Question 8. Provide an example of the abstraction method"
   ]
  },
  {
   "cell_type": "markdown",
   "id": "bb89aeb7",
   "metadata": {},
   "source": [
    "Answer 8)\n",
    "Abstraction is a fundamental concept in computer science and programming, which involves simplifying complex systems or ideas by breaking them down into more manageable and generalized components. It is widely used to create models and representations that hide unnecessary details while retaining essential information. Here's an example of abstraction:\n",
    "\n",
    "Example: Abstraction in a Car\n",
    "\n",
    "High-Level Description: At the highest level of abstraction, we can describe a car simply as a means of transportation that has the ability to move from one place to another. \n",
    "\n",
    "Key Features: We can abstract the car further by identifying its key features, such as having wheels, an engine, seats, and a steering wheel.\n",
    "\n",
    "Functional Abstraction: Another level of abstraction focuses on the car's primary functions, such as accelerating, braking, and steering.\n",
    "\n",
    "User Interface: Abstraction can be applied to the user interface of the carThere are a number of techniques that can be used to prevent overfitting and improve generalization. These techniques include:\n",
    "\n",
    "Using a validation set: A validation set is a set of data that is not used to train the model. The validation set is used to evaluate the model during training and to stop training when the model starts to overfit to the training data.\n",
    "Regularization: Regularization is a technique that penalizes the model for complexity. This helps to prevent the model from overfitting to the training data.\n",
    "Data augmentation: Data augmentation is a technique that creates new training data by transforming existing training data. This helps to increase the size and diversity of the training dataset, which can help to improve generalization., where we represent it as a dashboard with simple controls for adjusting speed, changing direction, and monitoring fuel levels without exposing the underlying complexity of the engine.\n",
    "\n",
    "Model-Based Abstraction: In modeling and simulation, we can use abstraction to create simplified models of a car for various purposes. For example, in a traffic simulation, we might represent a car as a point mass with attributes like speed and position, abstracting away its physical structure.\n",
    "\n",
    "Software Abstraction: In software development for automotive systems, we abstract the control and communication mechanisms within a car's electronic systems, allowing developers to work with high-level software interfaces without needing to understand the hardware intricacies."
   ]
  },
  {
   "cell_type": "markdown",
   "id": "e68cf769",
   "metadata": {},
   "source": [
    "Question 9. What is the concept of generalization? What function does it play in the machine learning\n",
    "process?"
   ]
  },
  {
   "cell_type": "markdown",
   "id": "9438aecd",
   "metadata": {},
   "source": [
    "Answer 9)\n",
    "The concept of \"generalization\" is fundamental in machine learning and refers to the model's ability to perform well on unseen or new data that it hasn't encountered during the training phase. In essence, it's the process of learning patterns, relationships, and representations from training data and applying that knowledge to make accurate predictions or decisions on previously unseen data.\n",
    "\n",
    "For example, we could train a machine learning model to classify images of cats and dogs. The model would be trained on a set of training images that contain both cats and dogs. Once the model is trained, we can use it to classify new images of cats and dogs that it has never seen before.\n",
    "Generalization is an important concept in machine learning because it allows us to use machine learning models to solve real-world problems. By preventing overfitting and improving generalization, we can train machine learning models that are able to perform well on new data that they have never seen before\n",
    "\n",
    "Here are some examples of how generalization is used in machine learning:\n",
    "\n",
    "Image recognition: Machine learning models are used to identify objects in images, such as faces, cars, and products. These models are trained on large datasets of images, and they are able to generalize to new images that they have never seen before.\n",
    "\n",
    "Natural language processing: Machine learning models are used to understand and generate human language. These models are trained on large datasets of text, and they are able to generalize to new text that they have never seen before.\n",
    "\n",
    "Recommendation systems: Machine learning models are used to recommend products, services, and content to users. These models are trained on data about users' past behavior, and they are able to generalize to new users and new products."
   ]
  },
  {
   "cell_type": "markdown",
   "id": "afbc1e85",
   "metadata": {},
   "source": [
    "Question 10.What is classification, exactly? What are the main distinctions between classification and regression?"
   ]
  },
  {
   "cell_type": "markdown",
   "id": "ff10172b",
   "metadata": {},
   "source": [
    "Answer 10.\n",
    "Classification is a machine learning task that involves predicting the category of a new data point based on a set of training data. For example, a classification model could be trained to predict whether a customer will churn (cancel their subscription) or not, whether an email is spam or not, or whether a medical image shows a tumor or not\n",
    "\n",
    "Here are the main distinctions between classification and regression:\n",
    "\n",
    "Nature of the Output:\n",
    "\n",
    "Classification: In classification, the output is categorical and discrete. For example, it may classify an email as either \"spam\" or \"not spam.\"\n",
    "Regression: In regression, the output is continuous and numerical. It predicts a value along a continuous range. For example, it might predict the price of a house or the temperature for a given day.\n",
    "\n",
    "Type of Learning:\n",
    "\n",
    "Classification: Classification is a type of supervised learning, where the algorithm learns from labeled examples. \n",
    "Regression: Regression is also a form of supervised learning, but it deals with continuous target variables. \n",
    "\n",
    "Output Representation:\n",
    "\n",
    "Classification: The output of a classification model is typically represented as probabilities or class labels. For instance, a spam email classifier might assign a probability of 0.9 for \"spam\" and 0.1 for \"not spam\" to a given email.\n",
    "Regression: In regression, the output is a single numerical value that represents the predicted quantity. For example, a house price regression model might predict a price of $300,000.\n",
    "\n",
    "Evaluation Metrics:\n",
    "\n",
    "Classification: Classification models are evaluated using metrics like accuracy, precision, recall, F1-score, confusion matrix, and ROC-AUC, which assess the model's ability to correctly classify data points into their respective classes.\n",
    "Regression: Regression models are evaluated using metrics like mean squared error (MSE), root mean squared error (RMSE), mean absolute error (MAE), and R-squared (R²), which measure the model's ability to predict numerical values accurately.\n",
    "\n",
    "Application Domain:\n",
    "\n",
    "Classification: Classification is commonly used in applications like spam detection, image recognition, sentiment analysis, and medical diagnosis, where the goal is to assign data points to distinct categories.\n",
    "Regression: Regression is applied in domains such as house price prediction, stock price forecasting, demand forecasting, and natural resource estimation, where the goal is to predict numerical values.\n",
    "\n",
    "Output Interpretation:\n",
    "\n",
    "Classification: The output of a classification model is often interpretable as class labels (e.g., \"positive\" or \"negative\"). \n",
    "Regression: The output of a regression model represents continuous values and may not have a straightforward interpretation as class labels. "
   ]
  },
  {
   "cell_type": "markdown",
   "id": "67ed5f91",
   "metadata": {},
   "source": [
    "Question 11. What is regression, and how does it work? Give an example of a real-world problem that was\n",
    "solved using regression."
   ]
  },
  {
   "cell_type": "markdown",
   "id": "face139d",
   "metadata": {},
   "source": [
    "Answer 11.\n",
    "\n",
    "\n",
    "Regression is a statistical and machine learning technique used for modeling and predicting numerical values or continuous outcomes based on input features or variables.\n",
    "Regression models help us understand the relationships between variables and make predictions about future or unseen data points.\n",
    "\n",
    "Problem: Predicting Housing Prices\n",
    "\n",
    "Description: Imagine you are a real estate agent, and you want to help your clients determine the selling price of their homes based on various factors such as the number of bedrooms, square footage, location, and other relevant features.\n",
    "\n",
    "Solution using Regression: You can use regression analysis to build a predictive model that estimates the selling price of homes based on the input features. By collecting historical data on home sales, including features and sale prices, you can train a regression model. \n",
    "\n",
    "Regression Model: The model will have coefficients for each input feature, and the predicted price is calculated as a weighted sum of the features.\n",
    "\n",
    "Evaluation: The model's performance can be evaluated using metrics like RMSE or MAE, which measure how close the predicted prices are to the actual selling prices on a test dataset.\n",
    "\n",
    "Application: This regression model can be used by real estate agents and property sellers to estimate a reasonable selling price for homes, helping clients make informed decisions about listing prices."
   ]
  },
  {
   "cell_type": "markdown",
   "id": "365b31c8",
   "metadata": {},
   "source": [
    "Question 12. Describe the clustering mechanism in detail."
   ]
  },
  {
   "cell_type": "markdown",
   "id": "cf626fbb",
   "metadata": {},
   "source": [
    "Answer 12)\n",
    "Clustering is a machine learning and data analysis technique used to group similar data points together based on their inherent similarities or patterns\n",
    "Clustering is used to discover the natural structure of data and to identify patterns and relationships that may not be immediately obvious.\n",
    "\n",
    "There are many different clustering algorithms, but they all work by grouping similar data points together. Some common clustering algorithms include:\n",
    "\n",
    "K-means clustering:  It works by dividing the data into a predefined number of clusters, such as k = 3 or k = 5. The algorithm then assigns each data point to the cluster with the closest centroid. The centroids are the average values of the data points in each cluster.\n",
    "Hierarchical clustering: Hierarchical clustering builds a hierarchy of clusters, with each cluster nested within a larger cluster. The algorithm works by merging the two most similar clusters at each step until the desired number of clusters is reached.\n",
    "Density-based clustering: Density-based clustering groups data points together based on their density. The algorithm works by identifying dense regions of data and then grouping the data points in those regions together."
   ]
  },
  {
   "cell_type": "markdown",
   "id": "054f0d6c",
   "metadata": {},
   "source": [
    "\n",
    "Question 13. Make brief observations on two of the following topics:"
   ]
  },
  {
   "cell_type": "markdown",
   "id": "31a0ba8f",
   "metadata": {},
   "source": [
    "i. Machine learning algorithms are used\n",
    "ii. Studying under supervision\n",
    "iii. Studying without supervision\n",
    "iv. Reinforcement learning is a form of learning based on positive reinforcement."
   ]
  },
  {
   "cell_type": "markdown",
   "id": "930609b5",
   "metadata": {},
   "source": [
    "iii. Studying without supervision involves learning or training without direct supervision. Self goal building is promoted and self correction is required by using certain metrics to ensure correct path of progress. This also comes with its drawback in the form of slow progress and lack of input from supervisor to guide.\n",
    "\n",
    "iv. Reinforcement learning requires reward in mathematical terms for the algorithm to incorporate the correct predictions made and progress further to get more effective. Incorrect predictions only hinder the growth of the algorithm as penalties are imposed. Hence, True progress of reinforcement learning comes from positive \n",
    "reinforcement."
   ]
  }
 ],
 "metadata": {
  "kernelspec": {
   "display_name": "Python 3 (ipykernel)",
   "language": "python",
   "name": "python3"
  },
  "language_info": {
   "codemirror_mode": {
    "name": "ipython",
    "version": 3
   },
   "file_extension": ".py",
   "mimetype": "text/x-python",
   "name": "python",
   "nbconvert_exporter": "python",
   "pygments_lexer": "ipython3",
   "version": "3.9.12"
  }
 },
 "nbformat": 4,
 "nbformat_minor": 5
}
